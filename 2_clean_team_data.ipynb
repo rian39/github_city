{
 "metadata": {
  "name": "",
  "signature": "sha256:f3235263fc06d50bb1a48fe4f1bbd93da70203a9254c653d1f96553947e5dfaa"
 },
 "nbformat": 3,
 "nbformat_minor": 0,
 "worksheets": [
  {
   "cells": [
    {
     "cell_type": "code",
     "collapsed": false,
     "input": [
      "from bs4 import BeautifulSoup\n",
      "import pandas as pd\n",
      "import urllib2\n",
      "import seaborn\n",
      "import ConfigParser\n",
      "import github as gh"
     ],
     "language": "python",
     "metadata": {},
     "outputs": [],
     "prompt_number": 2
    },
    {
     "cell_type": "code",
     "collapsed": false,
     "input": [
      "#Load team description: I added the countries in manually, so load this to see team members (including )\n",
      "team_df = pd.read_csv('data/github_team_with_countries.csv', sep='\\t')\n",
      "\n",
      "# Load team repository descriptions\n",
      "all_team_repos = pd.read_csv('data/github_team_repos.csv', sep='\\t')\n",
      "\n",
      "# Load general event descriptions\n",
      "all_events = pd.read_csv('data/event_counts_top100k.csv', sep = '\\t')"
     ],
     "language": "python",
     "metadata": {},
     "outputs": [],
     "prompt_number": 16
    },
    {
     "cell_type": "markdown",
     "metadata": {},
     "source": [
      "## Clean up countries and cities"
     ]
    },
    {
     "cell_type": "code",
     "collapsed": false,
     "input": [
      "team_df['location'] = team_df.location.str.lower().str.replace(',.*', '')"
     ],
     "language": "python",
     "metadata": {},
     "outputs": [],
     "prompt_number": 17
    },
    {
     "cell_type": "code",
     "collapsed": false,
     "input": [
      "team_df.to_csv('data/github_team_with_countries.csv', sep='\\t')"
     ],
     "language": "python",
     "metadata": {},
     "outputs": [],
     "prompt_number": 18
    },
    {
     "cell_type": "markdown",
     "metadata": {},
     "source": [
      "## Clean up team repos names"
     ]
    },
    {
     "cell_type": "code",
     "collapsed": false,
     "input": [
      "all_team_repos['repository_name'] = all_team_repos['repository_url'].str.replace('.*/', '')\n",
      "all_team_repos.to_csv('data/github_team_repos.csv')"
     ],
     "language": "python",
     "metadata": {},
     "outputs": [],
     "prompt_number": 20
    }
   ],
   "metadata": {}
  }
 ]
}